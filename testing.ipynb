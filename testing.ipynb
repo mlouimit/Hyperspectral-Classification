{
 "cells": [
  {
   "cell_type": "code",
   "execution_count": 1,
   "id": "a0e6ad3c",
   "metadata": {},
   "outputs": [
    {
     "name": "stdout",
     "output_type": "stream",
     "text": [
      "1.11.0+cu102\n",
      "Cuda available? True\n"
     ]
    }
   ],
   "source": [
    "# Torch\n",
    "import torch\n",
    "import torch.utils.data as data\n",
    "from torchsummary import summary\n",
    "\n",
    "# Numpy, scipy, scikit-image, spectral\n",
    "import numpy as np\n",
    "import sklearn.svm\n",
    "import sklearn.model_selection\n",
    "from skimage import io\n",
    "# Visualization\n",
    "import seaborn as sns\n",
    "import visdom\n",
    "\n",
    "import pickle\n",
    "import scipy.io\n",
    "\n",
    "import os\n",
    "from utils import metrics, convert_to_color_, convert_from_color_,\\\n",
    "    display_dataset, display_predictions, explore_spectrums, plot_spectrums,\\\n",
    "    sample_gt, build_dataset, show_results, compute_imf_weights, get_device\n",
    "from datasets import get_dataset, HyperX, open_file, DATASETS_CONFIG\n",
    "from models import get_model, train, test, save_model\n",
    "\n",
    "print(torch.__version__)\n",
    "print(f'Cuda available? {torch.cuda.is_available()}')"
   ]
  },
  {
   "cell_type": "code",
   "execution_count": 2,
   "id": "2c8059db",
   "metadata": {},
   "outputs": [],
   "source": [
    "# Parameters\n",
    "DATASET = 'IndianPines'\n",
    "MODEL = 'hamida'\n",
    "PARAMS = './checkpoints/hamida_et_al/IndianPines/params.pkl'\n",
    "CHECKPOINT = './checkpoints/hamida_et_al/IndianPines/run_epoch50_0.95.pth'"
   ]
  },
  {
   "cell_type": "code",
   "execution_count": 12,
   "id": "dcc1c1f2",
   "metadata": {},
   "outputs": [
    {
     "name": "stdout",
     "output_type": "stream",
     "text": [
      "(145, 145, 200)\n",
      "(145, 145)\n",
      "\n",
      "(145, 145, 67)\n"
     ]
    }
   ],
   "source": [
    "# Get data\n",
    "img, gt, label_values, ignored_labels, rgb_bands, palette = get_dataset(DATASET,target_folder='./Datasets/')\n",
    "print(img.shape)\n",
    "print(gt.shape)\n",
    "print()\n",
    "\n",
    "# Subsample\n",
    "sub_amt = 3\n",
    "sub_dir = f'./Datasets/IndianPines{sub_amt}/'\n",
    "sub_img = img[:,:,::sub_amt].copy()\n",
    "print(sub_img.shape)\n",
    "img_dict = {}\n",
    "img_dict[f'indian_pines_{sub_amt}'] = sub_img\n",
    "if not os.path.isdir(sub_dir):\n",
    "    os.mkdir(sub_dir)\n",
    "scipy.io.savemat(f'{sub_dir}Indian_pines_{sub_amt}.mat', img_dict)"
   ]
  },
  {
   "cell_type": "code",
   "execution_count": 3,
   "id": "32bf2c11",
   "metadata": {},
   "outputs": [
    {
     "name": "stderr",
     "output_type": "stream",
     "text": [
      "Downloading Indian_pines_gt.mat: 8.19kB [00:00, 9.37kB/s]"
     ]
    },
    {
     "name": "stdout",
     "output_type": "stream",
     "text": [
      "(145, 145, 67)\n"
     ]
    },
    {
     "name": "stderr",
     "output_type": "stream",
     "text": [
      "\n"
     ]
    }
   ],
   "source": [
    "# Load subsampled image\n",
    "img, gt, label_values, ignored_labels, rgb_bands, palette = get_dataset('IndianPines3',target_folder='./Datasets/')\n",
    "print(img.shape)"
   ]
  },
  {
   "cell_type": "code",
   "execution_count": 9,
   "id": "e0f51aef",
   "metadata": {},
   "outputs": [
    {
     "name": "stderr",
     "output_type": "stream",
     "text": [
      "Inference on the image: 100%|████████████████| 196/196 [00:00<00:00, 500.28it/s]"
     ]
    },
    {
     "name": "stdout",
     "output_type": "stream",
     "text": [
      "(145, 145)\n"
     ]
    },
    {
     "name": "stderr",
     "output_type": "stream",
     "text": [
      "\n"
     ]
    }
   ],
   "source": [
    "# Upload parameters\n",
    "with open(PARAMS, 'rb') as handle:\n",
    "    hyperparams = pickle.load(handle)\n",
    "    \n",
    "# Load model\n",
    "model, _, _, hyperparams = get_model(MODEL, **hyperparams)\n",
    "model.load_state_dict(torch.load(CHECKPOINT))\n",
    "probabilities = test(model, img, hyperparams)\n",
    "prediction = np.argmax(probabilities, axis=-1)\n",
    "print(prediction.shape)"
   ]
  },
  {
   "cell_type": "code",
   "execution_count": 34,
   "id": "3c4f0f50",
   "metadata": {},
   "outputs": [
    {
     "name": "stdout",
     "output_type": "stream",
     "text": [
      "['run_epoch19_0.79.pth', 'run_epoch4_0.49.pth', 'run_epoch12_0.81.pth', 'run_epoch20_0.76.pth', 'run_epoch16_0.66.pth', 'run_epoch6_0.53.pth', 'run_epoch15_0.86.pth', 'run_epoch5_0.49.pth', 'run_epoch10_0.61.pth', 'run_epoch18_0.79.pth', 'run_epoch17_0.79.pth', 'run_epoch9_0.55.pth', 'run_epoch17_0.66.pth', 'run_epoch5_0.56.pth', 'run_epoch8_0.68.pth', 'run_epoch6_0.60.pth', 'run_epoch11_0.71.pth', 'run_epoch18_0.65.pth', 'run_epoch2_0.43.pth', 'run_epoch8_0.59.pth', 'run_epoch7_0.57.pth', 'run_epoch19_0.63.pth', 'run_epoch10_0.73.pth', 'run_epoch1_0.40.pth', 'run_epoch14_0.68.pth', 'run_epoch11_0.63.pth', 'run_epoch20_0.86.pth', 'run_epoch3_0.54.pth', 'run_epoch2_0.52.pth', 'run_epoch15_0.68.pth', 'run_epoch1_0.41.pth', 'run_epoch7_0.64.pth', 'run_epoch12_0.42.pth', 'run_epoch16_0.86.pth', 'run_epoch3_0.44.pth', 'run_epoch13_0.60.pth', 'run_epoch13_0.69.pth', 'run_epoch14_0.78.pth', 'run_epoch9_0.74.pth']\n",
      "\n",
      "[0.79 0.49 0.81 0.76 0.66 0.53 0.86 0.49 0.61 0.79 0.79 0.55 0.66 0.56\n",
      " 0.68 0.6  0.71 0.65 0.43 0.59 0.57 0.63 0.73 0.4  0.68 0.63 0.86 0.54\n",
      " 0.52 0.68 0.41 0.64 0.42 0.86 0.44 0.6  0.69 0.78 0.74]\n",
      "\n",
      "run_epoch20_0.86.pth\n"
     ]
    }
   ],
   "source": [
    "from os import listdir\n",
    "from os.path import isfile, join\n",
    "\n",
    "onlyfiles = [f for f in listdir('./checkpoints/hamida_et_al/IndianPines/') if isfile(join('./checkpoints/hamida_et_al/IndianPines/', f))]\n",
    "print(onlyfiles)\n",
    "print()\n",
    "accs = np.array([float(epoch_name[len(epoch_name)-8:len(epoch_name)-4]) for epoch_name in onlyfiles])\n",
    "print(accs)\n",
    "print()\n",
    "sorted_accs = np.argsort(accs)\n",
    "print(onlyfiles[sorted_accs[-1]])"
   ]
  },
  {
   "cell_type": "code",
   "execution_count": 23,
   "id": "17ab145f",
   "metadata": {},
   "outputs": [
    {
     "name": "stdout",
     "output_type": "stream",
     "text": [
      "20\n",
      "<class 'float'>\n"
     ]
    }
   ],
   "source": [
    "epoch1 = onlyfiles[0]\n",
    "print(len(epoch1))\n",
    "converted = float(epoch1[12:16])\n",
    "print(type(converted))"
   ]
  },
  {
   "cell_type": "code",
   "execution_count": null,
   "id": "5076272c",
   "metadata": {},
   "outputs": [],
   "source": []
  }
 ],
 "metadata": {
  "kernelspec": {
   "display_name": "Python 3 (ipykernel)",
   "language": "python",
   "name": "python3"
  },
  "language_info": {
   "codemirror_mode": {
    "name": "ipython",
    "version": 3
   },
   "file_extension": ".py",
   "mimetype": "text/x-python",
   "name": "python",
   "nbconvert_exporter": "python",
   "pygments_lexer": "ipython3",
   "version": "3.8.10"
  }
 },
 "nbformat": 4,
 "nbformat_minor": 5
}
