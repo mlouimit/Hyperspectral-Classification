{
 "cells": [
  {
   "cell_type": "code",
   "execution_count": 1,
   "id": "69cf2759",
   "metadata": {},
   "outputs": [
    {
     "name": "stdout",
     "output_type": "stream",
     "text": [
      "1.11.0+cu102\n",
      "Cuda available? True\n"
     ]
    }
   ],
   "source": [
    "# Torch\n",
    "import torch\n",
    "import torch.utils.data as data\n",
    "from torchsummary import summary\n",
    "\n",
    "# Numpy, scipy, scikit-image, spectral\n",
    "import numpy as np\n",
    "import sklearn.svm\n",
    "import sklearn.model_selection\n",
    "from skimage import io\n",
    "# Visualization\n",
    "import seaborn as sns\n",
    "import visdom\n",
    "\n",
    "import pickle\n",
    "import scipy.io\n",
    "\n",
    "import os\n",
    "from utils import metrics, convert_to_color_, convert_from_color_,\\\n",
    "    display_dataset, display_predictions, explore_spectrums, plot_spectrums,\\\n",
    "    sample_gt, build_dataset, show_results, compute_imf_weights, get_device\n",
    "from datasets import get_dataset, HyperX, open_file, DATASETS_CONFIG\n",
    "from models import get_model, train, test, save_model\n",
    "\n",
    "print(torch.__version__)\n",
    "print(f'Cuda available? {torch.cuda.is_available()}')"
   ]
  },
  {
   "cell_type": "code",
   "execution_count": 2,
   "id": "da8fe02c",
   "metadata": {},
   "outputs": [],
   "source": [
    "# Parameters\n",
    "DATASET = 'IndianPines'\n",
    "sub_amt = 4"
   ]
  },
  {
   "cell_type": "code",
   "execution_count": 3,
   "id": "d143e2b8",
   "metadata": {},
   "outputs": [
    {
     "name": "stdout",
     "output_type": "stream",
     "text": [
      "(145, 145, 200)\n",
      "(145, 145)\n",
      "\n"
     ]
    }
   ],
   "source": [
    "# Get data to subsample\n",
    "img, gt, label_values, ignored_labels, rgb_bands, palette = get_dataset(DATASET,target_folder='./Datasets/')\n",
    "print(img.shape)\n",
    "print(gt.shape)\n",
    "print()"
   ]
  },
  {
   "cell_type": "code",
   "execution_count": 4,
   "id": "76df3a90",
   "metadata": {},
   "outputs": [
    {
     "name": "stdout",
     "output_type": "stream",
     "text": [
      "(145, 145, 50)\n"
     ]
    },
    {
     "name": "stderr",
     "output_type": "stream",
     "text": [
      "Downloading Indian_pines_gt.mat: 8.19kB [00:00, 11.4kB/s]"
     ]
    },
    {
     "name": "stdout",
     "output_type": "stream",
     "text": [
      "(145, 145, 50)\n"
     ]
    },
    {
     "name": "stderr",
     "output_type": "stream",
     "text": [
      "\n"
     ]
    }
   ],
   "source": [
    "# Subsample\n",
    "sub_dir = f'./Datasets/IndianPines{sub_amt}/'\n",
    "sub_img = img[:,:,::sub_amt].copy()\n",
    "print(sub_img.shape)\n",
    "img_dict = {}\n",
    "img_dict[f'indian_pines_{sub_amt}'] = sub_img\n",
    "if not os.path.isdir(sub_dir):\n",
    "    os.mkdir(sub_dir)\n",
    "scipy.io.savemat(f'{sub_dir}Indian_pines_{sub_amt}.mat', img_dict)\n",
    "\n",
    "# Load subsampled image to make sure it works\n",
    "img, gt, label_values, ignored_labels, rgb_bands, palette = get_dataset(f'IndianPines{sub_amt}',target_folder='./Datasets/')\n",
    "print(img.shape)"
   ]
  },
  {
   "cell_type": "code",
   "execution_count": null,
   "id": "be68015d",
   "metadata": {},
   "outputs": [],
   "source": []
  }
 ],
 "metadata": {
  "kernelspec": {
   "display_name": "Python 3 (ipykernel)",
   "language": "python",
   "name": "python3"
  },
  "language_info": {
   "codemirror_mode": {
    "name": "ipython",
    "version": 3
   },
   "file_extension": ".py",
   "mimetype": "text/x-python",
   "name": "python",
   "nbconvert_exporter": "python",
   "pygments_lexer": "ipython3",
   "version": "3.8.10"
  }
 },
 "nbformat": 4,
 "nbformat_minor": 5
}
